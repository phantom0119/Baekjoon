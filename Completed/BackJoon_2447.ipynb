{
 "cells": [
  {
   "cell_type": "markdown",
   "metadata": {},
   "source": [
    "## 별찍기 - 10"
   ]
  },
  {
   "cell_type": "markdown",
   "metadata": {},
   "source": [
    "재귀적인 패턴으로 별을 찍어 보자. N이 3의 거듭제곱(3, 9, 27, ...)이라고 할 때, 크기 N의 패턴은 N×N 정사각형 모양이다.\n",
    "\n",
    "크기 3의 패턴은 가운데에 공백이 있고, 가운데를 제외한 모든 칸에 별이 하나씩 있는 패턴이다."
   ]
  },
  {
   "cell_type": "markdown",
   "metadata": {},
   "source": [
    "## ***\n",
    "## * *\n",
    "## ***"
   ]
  },
  {
   "cell_type": "markdown",
   "metadata": {},
   "source": [
    "N이 3보다 클 경우, 크기 N의 패턴은 공백으로 채워진 가운데의 (N/3)×(N/3) 정사각형을 \n",
    "\n",
    " N/3의 패턴으로 둘러싼 형태이다. 예를 들어 크기 27의 패턴은 예제 출력 1과 같다."
   ]
  },
  {
   "cell_type": "markdown",
   "metadata": {},
   "source": [
    "첫째 줄에 N이 주어진다. N은 3의 거듭제곱이다. 즉 어떤 정수 k에 대해 N=3k이며, \n",
    "\n",
    "이때 1 ≤ k < 8이다.\n"
   ]
  },
  {
   "cell_type": "code",
   "execution_count": 51,
   "metadata": {
    "scrolled": true
   },
   "outputs": [
    {
     "name": "stdout",
     "output_type": "stream",
     "text": [
      "27\n",
      "***************************\n",
      "* ** ** ** ** ** ** ** ** *\n",
      "***************************\n",
      "***   ******   ******   ***\n",
      "* *   * ** *   * ** *   * *\n",
      "***   ******   ******   ***\n",
      "***************************\n",
      "* ** ** ** ** ** ** ** ** *\n",
      "***************************\n",
      "*********         *********\n",
      "* ** ** *         * ** ** *\n",
      "*********         *********\n",
      "***   ***         ***   ***\n",
      "* *   * *         * *   * *\n",
      "***   ***         ***   ***\n",
      "*********         *********\n",
      "* ** ** *         * ** ** *\n",
      "*********         *********\n",
      "***************************\n",
      "* ** ** ** ** ** ** ** ** *\n",
      "***************************\n",
      "***   ******   ******   ***\n",
      "* *   * ** *   * ** *   * *\n",
      "***   ******   ******   ***\n",
      "***************************\n",
      "* ** ** ** ** ** ** ** ** *\n",
      "***************************\n"
     ]
    }
   ],
   "source": [
    "import sys\n",
    "sys.setrecursionlimit(10 ** 6)  # 파이썬 재귀함수 제한 해제\n",
    "                                # 파이썬은 기본 제한이 1000이기 때문\n",
    "\n",
    "def MakeStars(cnt):\n",
    "    if cnt == 3:   # 가장 말단까지 왔을 경우\n",
    "        output = ['***', '* *', '***']\n",
    "        return output\n",
    "    else:\n",
    "        Pattern = MakeStars(cnt//3)   # cnt = 9면   3\n",
    "        output = []\n",
    "        for Line1 in Pattern:  # cnt = 9면, ['***', '* *', '***'] 가져옴\n",
    "            output.append(Line1*3)\n",
    "        for Line2 in Pattern:\n",
    "            output.append(Line2 + ' '*(cnt//3) + Line2)\n",
    "        for Line3 in Pattern:\n",
    "            output.append(Line3*3)\n",
    "        return output\n",
    "\n",
    "cnt = int(input())\n",
    "print('\\n'.join(MakeStars(cnt)))"
   ]
  },
  {
   "cell_type": "code",
   "execution_count": 44,
   "metadata": {
    "scrolled": true
   },
   "outputs": [
    {
     "name": "stdout",
     "output_type": "stream",
     "text": [
      "9\n",
      "*********\n",
      "* ** ** *\n",
      "*********\n",
      "***   ***\n",
      "* *   * *\n",
      "***   ***\n",
      "*********\n",
      "* ** ** *\n",
      "*********\n"
     ]
    }
   ],
   "source": [
    "# 출처 : https://cotak.tistory.com/38\n",
    "\n",
    "import sys \n",
    "sys.setrecursionlimit(10**6) \n",
    "\n",
    "def append_star(LEN): \n",
    "    if LEN == 1: \n",
    "        return ['*'] \n",
    "    \n",
    "    Stars = append_star(LEN//3)   # *, [***,* *, ***]\n",
    "    L = [] \n",
    "    \n",
    "    for S in Stars: \n",
    "        L.append(S*3) \n",
    "    for S in Stars: \n",
    "        L.append(S+' '*(LEN//3)+S) \n",
    "    for S in Stars: \n",
    "        L.append(S*3) \n",
    "    return L\n",
    "\n",
    "n = int(input()) \n",
    "print('\\n'.join(append_star(n)))"
   ]
  }
 ],
 "metadata": {
  "kernelspec": {
   "display_name": "Python 3",
   "language": "python",
   "name": "python3"
  },
  "language_info": {
   "codemirror_mode": {
    "name": "ipython",
    "version": 3
   },
   "file_extension": ".py",
   "mimetype": "text/x-python",
   "name": "python",
   "nbconvert_exporter": "python",
   "pygments_lexer": "ipython3",
   "version": "3.8.5"
  }
 },
 "nbformat": 4,
 "nbformat_minor": 4
}
